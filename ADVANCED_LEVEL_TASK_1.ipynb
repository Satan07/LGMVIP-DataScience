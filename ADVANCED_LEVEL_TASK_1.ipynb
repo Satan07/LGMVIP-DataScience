{
  "nbformat": 4,
  "nbformat_minor": 0,
  "metadata": {
    "colab": {
      "name": "ADVANCED LEVEL TASK 1.ipynb",
      "provenance": [],
      "authorship_tag": "ABX9TyMpZXbPsPxI324nffcsubI9",
      "include_colab_link": true
    },
    "kernelspec": {
      "name": "python3",
      "display_name": "Python 3"
    },
    "language_info": {
      "name": "python"
    }
  },
  "cells": [
    {
      "cell_type": "markdown",
      "metadata": {
        "id": "view-in-github",
        "colab_type": "text"
      },
      "source": [
        "<a href=\"https://colab.research.google.com/github/Satan07/LGMVIP-DataScience/blob/main/ADVANCED_LEVEL_TASK_1.ipynb\" target=\"_parent\"><img src=\"https://colab.research.google.com/assets/colab-badge.svg\" alt=\"Open In Colab\"/></a>"
      ]
    },
    {
      "cell_type": "markdown",
      "source": [
        "**DATA-SCIENCE INTERN AT LETSGROWMORE LGMVIPDECEMBER 2021**"
      ],
      "metadata": {
        "id": "JcRtuUUUpGBU"
      }
    },
    {
      "cell_type": "markdown",
      "source": [
        "\n",
        "**NAME: SATYAM PALKAR**"
      ],
      "metadata": {
        "id": "Xu3Ieqt1pHC2"
      }
    },
    {
      "cell_type": "markdown",
      "source": [
        "**ADVANCED LEVEL TASK 1 - Develop A Neural Network That Can Read Handwriting:**"
      ],
      "metadata": {
        "id": "jeLPxw0wpUp0"
      }
    },
    {
      "cell_type": "code",
      "source": [
        "#Import MNIST dataset from Keras\n",
        "from keras.datasets import mnist\n",
        "import numpy as np"
      ],
      "metadata": {
        "id": "P25X-WDVpYKS"
      },
      "execution_count": 2,
      "outputs": []
    },
    {
      "cell_type": "code",
      "source": [
        "(x_train, y_train), (x_test, y_test) = mnist.load_data()"
      ],
      "metadata": {
        "colab": {
          "base_uri": "https://localhost:8080/"
        },
        "id": "Nvi4RIRcpWMG",
        "outputId": "440b5525-e4c2-452a-c8fa-71fcc7269ebb"
      },
      "execution_count": 3,
      "outputs": [
        {
          "output_type": "stream",
          "name": "stdout",
          "text": [
            "Downloading data from https://storage.googleapis.com/tensorflow/tf-keras-datasets/mnist.npz\n",
            "11493376/11490434 [==============================] - 0s 0us/step\n",
            "11501568/11490434 [==============================] - 0s 0us/step\n"
          ]
        }
      ]
    },
    {
      "cell_type": "code",
      "source": [
        "\n",
        "#TO VISULAIZE THE DIGITS IN THE DATASET\n",
        "import matplotlib.pyplot as plt\n",
        "%matplotlib inline"
      ],
      "metadata": {
        "id": "RP7mhKuTpeQn"
      },
      "execution_count": 4,
      "outputs": []
    },
    {
      "cell_type": "code",
      "source": [
        "image_index= 38\n",
        "print(y_train[image_index])\n",
        "plt.imshow(x_train[image_index], cmap='Greys')\n",
        "plt.show()"
      ],
      "metadata": {
        "colab": {
          "base_uri": "https://localhost:8080/",
          "height": 282
        },
        "id": "V2SlRoVNpfgI",
        "outputId": "33fcf2df-1747-43b2-f385-9a2ed2638d41"
      },
      "execution_count": 5,
      "outputs": [
        {
          "output_type": "stream",
          "name": "stdout",
          "text": [
            "7\n"
          ]
        },
        {
          "output_type": "display_data",
          "data": {
            "image/png": "[encoded data removed]",
            "text/plain": [
              "<Figure size 432x288 with 1 Axes>"
            ]
          },
          "metadata": {
            "needs_background": "light"
          }
        }
      ]
    },
    {
      "cell_type": "code",
      "source": [
        "\n",
        "#Verify the sizes of the images\n",
        "print(x_train.shape)\n",
        "print(x_test.shape)\n",
        "print(y_train.shape)\n",
        "print(y_test.shape)"
      ],
      "metadata": {
        "colab": {
          "base_uri": "https://localhost:8080/"
        },
        "id": "trvyesRxplab",
        "outputId": "a6cc0bfb-d051-4380-fe80-abb0af6b4701"
      },
      "execution_count": 6,
      "outputs": [
        {
          "output_type": "stream",
          "name": "stdout",
          "text": [
            "(60000, 28, 28)\n",
            "(10000, 28, 28)\n",
            "(60000,)\n",
            "(10000,)\n"
          ]
        }
      ]
    },
    {
      "cell_type": "code",
      "source": [
        "print(y_train[:image_index +2])"
      ],
      "metadata": {
        "colab": {
          "base_uri": "https://localhost:8080/"
        },
        "id": "P7ZO19qupnCP",
        "outputId": "0e19cc58-3625-492f-f25d-a00b42171afe"
      },
      "execution_count": 7,
      "outputs": [
        {
          "output_type": "stream",
          "name": "stdout",
          "text": [
            "[5 0 4 1 9 2 1 3 1 4 3 5 3 6 1 7 2 8 6 9 4 0 9 1 1 2 4 3 2 7 3 8 6 9 0 5 6\n",
            " 0 7 6]\n"
          ]
        }
      ]
    },
    {
      "cell_type": "code",
      "source": [
        "#CLEANING THE DATA\n",
        "image_rows,image_cols =28,28  #image dimensions\n",
        "\n",
        "x_train =x_train.reshape(x_train.shape[0],image_rows,image_cols,1)\n",
        "x_test =x_test.reshape(x_test.shape[0], image_rows, image_cols, 1)\n",
        "\n",
        "# normalize the image data by dividing each pixel value by 255 \n",
        "x_train.astype('float32')/ 255\n",
        "x_test.astype('float32')/ 255\n",
        "\n",
        "#convert the dependent variable in the form of \n",
        "#integers to a binary class matrix. \n",
        "\n",
        "!pip install keras.utils \n",
        "\n",
        "import keras\n",
        "import keras.utils\n",
        "import tensorflow\n",
        "from tensorflow.keras.utils import to_categorical\n",
        "num_classes =10\n",
        "y_train = to_categorical(y_train, num_classes)\n",
        "y_test = to_categorical(y_test, num_classes)\n"
      ],
      "metadata": {
        "colab": {
          "base_uri": "https://localhost:8080/"
        },
        "id": "6eNZL81upqU4",
        "outputId": "aa7f82aa-2e89-4d1a-903a-dd116d1f1237"
      },
      "execution_count": 8,
      "outputs": [
        {
          "output_type": "stream",
          "name": "stdout",
          "text": [
            "Collecting keras.utils\n",
            "  Downloading keras-utils-1.0.13.tar.gz (2.4 kB)\n",
            "Requirement already satisfied: Keras>=2.1.5 in /usr/local/lib/python3.7/dist-packages (from keras.utils) (2.7.0)\n",
            "Building wheels for collected packages: keras.utils\n",
            "  Building wheel for keras.utils (setup.py) ... \u001b[?25l\u001b[?25hdone\n",
            "  Created wheel for keras.utils: filename=keras_utils-1.0.13-py3-none-any.whl size=2656 sha256=efd6b43fcd278a648c1339400219c8ef4ce4d62354251a208110a5e8a4a913c4\n",
            "  Stored in directory: /root/.cache/pip/wheels/d0/dd/3b/493952a5240d486a83805d65360dedadbadeae71d25e2c877f\n",
            "Successfully built keras.utils\n",
            "Installing collected packages: keras.utils\n",
            "Successfully installed keras.utils-1.0.13\n"
          ]
        }
      ]
    },
    {
      "cell_type": "code",
      "source": [
        "print(x_train.shape)\n",
        "print(x_test.shape)"
      ],
      "metadata": {
        "colab": {
          "base_uri": "https://localhost:8080/"
        },
        "id": "MznzVvcWpuDv",
        "outputId": "656745c7-a296-4ff9-ac96-9160f083ffca"
      },
      "execution_count": 9,
      "outputs": [
        {
          "output_type": "stream",
          "name": "stdout",
          "text": [
            "(60000, 28, 28, 1)\n",
            "(10000, 28, 28, 1)\n"
          ]
        }
      ]
    },
    {
      "cell_type": "code",
      "source": [
        "#DESIGNING A MODEL\n",
        "#to add a concolutipn layer to take input images\n",
        "from tensorflow import keras\n",
        "from tensorflow.keras import layers\n",
        "\n",
        "model = keras.Sequential()  #creates an empty model object\n",
        "model.add(layers.Conv2D(32, kernel_size=(3, 3), activation='relu',input_shape=(image_rows, image_cols,1)))\n",
        "model.add(layers.MaxPooling2D(pool_size=(2, 2)))\n",
        "model.add(layers.Conv2D(64, kernel_size=(3, 3), activation='relu'))\n",
        "model.add(layers.MaxPooling2D(pool_size=(2, 2)))\n",
        "model.add(layers.Conv2D(128, kernel_size=(3, 3), activation='relu'))\n",
        "model.add(layers.MaxPooling2D(pool_size=(2, 2)))\n",
        "model.add(layers.Dropout(0.5))   #to overcome the overfitting problems\n",
        "model.add(layers.Flatten())       #to convert previous hidden layer in 1D array\n",
        "model.add(layers.Dense(500, activation='relu'))\n",
        "model.add(layers.Dropout(0.5))\n",
        "model.add(layers.Dense(num_classes, activation=\"softmax\"))\n",
        "model.summary()\n"
      ],
      "metadata": {
        "colab": {
          "base_uri": "https://localhost:8080/"
        },
        "id": "joFv9qQMpv67",
        "outputId": "bce686c0-ff93-4b01-b9ae-33a0ee80f1c0"
      },
      "execution_count": 10,
      "outputs": [
        {
          "output_type": "stream",
          "name": "stdout",
          "text": [
            "Model: \"sequential\"\n",
            "_________________________________________________________________\n",
            " Layer (type)                Output Shape              Param #   \n",
            "=================================================================\n",
            " conv2d (Conv2D)             (None, 26, 26, 32)        320       \n",
            "                                                                 \n",
            " max_pooling2d (MaxPooling2D  (None, 13, 13, 32)       0         \n",
            " )                                                               \n",
            "                                                                 \n",
            " conv2d_1 (Conv2D)           (None, 11, 11, 64)        18496     \n",
            "                                                                 \n",
            " max_pooling2d_1 (MaxPooling  (None, 5, 5, 64)         0         \n",
            " 2D)                                                             \n",
            "                                                                 \n",
            " conv2d_2 (Conv2D)           (None, 3, 3, 128)         73856     \n",
            "                                                                 \n",
            " max_pooling2d_2 (MaxPooling  (None, 1, 1, 128)        0         \n",
            " 2D)                                                             \n",
            "                                                                 \n",
            " dropout (Dropout)           (None, 1, 1, 128)         0         \n",
            "                                                                 \n",
            " flatten (Flatten)           (None, 128)               0         \n",
            "                                                                 \n",
            " dense (Dense)               (None, 500)               64500     \n",
            "                                                                 \n",
            " dropout_1 (Dropout)         (None, 500)               0         \n",
            "                                                                 \n",
            " dense_1 (Dense)             (None, 10)                5010      \n",
            "                                                                 \n",
            "=================================================================\n",
            "Total params: 162,182\n",
            "Trainable params: 162,182\n",
            "Non-trainable params: 0\n",
            "_________________________________________________________________\n"
          ]
        }
      ]
    },
    {
      "cell_type": "markdown",
      "source": [
        "**COMPILE AND TRAIN THE MODEL**"
      ],
      "metadata": {
        "id": "tOVE3di5p0Fi"
      }
    },
    {
      "cell_type": "code",
      "source": [
        "model.compile(loss=\"categorical_crossentropy\", optimizer= \"adam\",metrics=[\"accuracy\"])"
      ],
      "metadata": {
        "id": "jfq6FBWKp2l6"
      },
      "execution_count": 11,
      "outputs": []
    },
    {
      "cell_type": "code",
      "source": [
        "batch_size =32\n",
        "epochs=10\n",
        "model.fit(x_train,y_train, batch_size=batch_size, epochs= epochs, validation_split=0.1)"
      ],
      "metadata": {
        "colab": {
          "base_uri": "https://localhost:8080/"
        },
        "id": "45t0z3Kvp8Sl",
        "outputId": "06f865e5-5269-451c-c096-177cd86d8282"
      },
      "execution_count": 12,
      "outputs": [
        {
          "output_type": "stream",
          "name": "stdout",
          "text": [
            "Epoch 1/10\n",
            "1688/1688 [==============================] - 65s 38ms/step - loss: 0.6805 - accuracy: 0.8098 - val_loss: 0.1007 - val_accuracy: 0.9717\n",
            "Epoch 2/10\n",
            "1688/1688 [==============================] - 61s 36ms/step - loss: 0.2141 - accuracy: 0.9399 - val_loss: 0.0675 - val_accuracy: 0.9793\n",
            "Epoch 3/10\n",
            "1688/1688 [==============================] - 59s 35ms/step - loss: 0.1655 - accuracy: 0.9540 - val_loss: 0.0816 - val_accuracy: 0.9780\n",
            "Epoch 4/10\n",
            "1688/1688 [==============================] - 58s 34ms/step - loss: 0.1439 - accuracy: 0.9602 - val_loss: 0.0665 - val_accuracy: 0.9817\n",
            "Epoch 5/10\n",
            "1688/1688 [==============================] - 57s 34ms/step - loss: 0.1354 - accuracy: 0.9625 - val_loss: 0.0652 - val_accuracy: 0.9833\n",
            "Epoch 6/10\n",
            "1688/1688 [==============================] - 58s 34ms/step - loss: 0.1251 - accuracy: 0.9666 - val_loss: 0.0675 - val_accuracy: 0.9817\n",
            "Epoch 7/10\n",
            "1688/1688 [==============================] - 57s 34ms/step - loss: 0.1155 - accuracy: 0.9689 - val_loss: 0.0713 - val_accuracy: 0.9785\n",
            "Epoch 8/10\n",
            "1688/1688 [==============================] - 57s 34ms/step - loss: 0.1123 - accuracy: 0.9697 - val_loss: 0.0609 - val_accuracy: 0.9835\n",
            "Epoch 9/10\n",
            "1688/1688 [==============================] - 58s 34ms/step - loss: 0.1065 - accuracy: 0.9711 - val_loss: 0.0549 - val_accuracy: 0.9845\n",
            "Epoch 10/10\n",
            "1688/1688 [==============================] - 58s 34ms/step - loss: 0.1011 - accuracy: 0.9735 - val_loss: 0.0527 - val_accuracy: 0.9865\n"
          ]
        },
        {
          "output_type": "execute_result",
          "data": {
            "text/plain": [
              "<keras.callbacks.History at 0x7f37be855890>"
            ]
          },
          "metadata": {},
          "execution_count": 12
        }
      ]
    },
    {
      "cell_type": "markdown",
      "source": [
        "**TESTING THE MODEL**"
      ],
      "metadata": {
        "id": "x8-1oB4yqJlM"
      }
    },
    {
      "cell_type": "code",
      "source": [
        "\n",
        "import matplotlib.pyplot as plt\n",
        "import numpy as np"
      ],
      "metadata": {
        "id": "lt2PohTPqKFx"
      },
      "execution_count": 13,
      "outputs": []
    },
    {
      "cell_type": "code",
      "source": [
        "image = x_train[5]\n",
        "plt.imshow(np.squeeze(image),cmap='gray')\n",
        "plt.show()"
      ],
      "metadata": {
        "colab": {
          "base_uri": "https://localhost:8080/",
          "height": 265
        },
        "id": "RWAwH7nXqQ57",
        "outputId": "50a7aeeb-cded-4b58-a14d-d594cd976d1c"
      },
      "execution_count": 14,
      "outputs": [
        {
          "output_type": "display_data",
          "data": {
            "image/png": "[encoded data removed]",
            "text/plain": [
              "<Figure size 432x288 with 1 Axes>"
            ]
          },
          "metadata": {
            "needs_background": "light"
          }
        }
      ]
    },
    {
      "cell_type": "code",
      "source": [
        "image = x_train[5]\n",
        "plt.imshow(np.squeeze(image),cmap='gray')\n",
        "plt.show()"
      ],
      "metadata": {
        "colab": {
          "base_uri": "https://localhost:8080/",
          "height": 265
        },
        "id": "SIVSAc_9rRZZ",
        "outputId": "1f3bd454-8233-43ba-c215-346d19532b9c"
      },
      "execution_count": 15,
      "outputs": [
        {
          "output_type": "display_data",
          "data": {
            "image/png": "[encoded data removed]",
            "text/plain": [
              "<Figure size 432x288 with 1 Axes>"
            ]
          },
          "metadata": {
            "needs_background": "light"
          }
        }
      ]
    },
    {
      "cell_type": "code",
      "source": [
        "# reshape the image\n",
        "image = image.reshape(-1, image_rows, image_cols, 1)"
      ],
      "metadata": {
        "id": "enyUgtQsrTQ0"
      },
      "execution_count": 16,
      "outputs": []
    },
    {
      "cell_type": "code",
      "source": [
        "# predict digit\n",
        "prediction =model.predict(image)\n",
        "np.argmax(prediction)"
      ],
      "metadata": {
        "colab": {
          "base_uri": "https://localhost:8080/"
        },
        "id": "FP3tmYsVrU1q",
        "outputId": "a9fed08e-f7c2-4bee-e169-e74a6f5df58f"
      },
      "execution_count": 17,
      "outputs": [
        {
          "output_type": "execute_result",
          "data": {
            "text/plain": [
              "2"
            ]
          },
          "metadata": {},
          "execution_count": 17
        }
      ]
    }
  ]
}