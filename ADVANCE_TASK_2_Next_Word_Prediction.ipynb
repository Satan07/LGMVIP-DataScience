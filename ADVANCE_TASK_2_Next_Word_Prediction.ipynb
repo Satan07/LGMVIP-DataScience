{
  "nbformat": 4,
  "nbformat_minor": 0,
  "metadata": {
    "colab": {
      "name": "ADVANCE TASK 2 : Next Word Prediction.ipynb",
      "provenance": [],
      "authorship_tag": "ABX9TyNv3dQGfjOUIDa773LpsckN",
      "include_colab_link": true
    },
    "kernelspec": {
      "name": "python3",
      "display_name": "Python 3"
    },
    "language_info": {
      "name": "python"
    }
  },
  "cells": [
    {
      "cell_type": "markdown",
      "metadata": {
        "id": "view-in-github",
        "colab_type": "text"
      },
      "source": [
        "<a href=\"https://colab.research.google.com/github/Satan07/LGMVIP-DataScience/blob/main/ADVANCE_TASK_2_Next_Word_Prediction.ipynb\" target=\"_parent\"><img src=\"https://colab.research.google.com/assets/colab-badge.svg\" alt=\"Open In Colab\"/></a>"
      ]
    },
    {
      "cell_type": "code",
      "execution_count": null,
      "metadata": {
        "id": "_lPcjt27VUfW"
      },
      "outputs": [],
      "source": [
        ""
      ]
    },
    {
      "cell_type": "markdown",
      "source": [
        "### **DATA SCIENCE INTERN AT LETSGROWMORE LGMVIPDECEMBER 2021 BATCH**"
      ],
      "metadata": {
        "id": "sDLUH3_sVhb2"
      }
    },
    {
      "cell_type": "markdown",
      "source": [
        "###**NAME** : **SATYAM PALKAR** "
      ],
      "metadata": {
        "id": "Ts-t5HJVVhlK"
      }
    },
    {
      "cell_type": "markdown",
      "source": [
        "### **ADVANCE TASK 2 : Next Word Prediction.**"
      ],
      "metadata": {
        "id": "XiNhvvA_Vht1"
      }
    },
    {
      "cell_type": "code",
      "source": [
        "import numpy as np\n",
        "from nltk.tokenize import RegexpTokenizer\n",
        "from tensorflow.keras.models import Sequential, load_model\n",
        "from tensorflow.keras.layers import LSTM\n",
        "from keras.layers.core import Dense, Activation\n",
        "from tensorflow.keras.optimizers import RMSprop\n",
        "import matplotlib.pyplot as plt\n",
        "import pickle\n",
        "import heapq"
      ],
      "metadata": {
        "id": "HzxIvpn6Vh-y"
      },
      "execution_count": 2,
      "outputs": []
    },
    {
      "cell_type": "code",
      "source": [
        "text = open('1661-0.txt' ,encoding ='UTF-8').read().lower()\n",
        "print('corpus length:', len(text))"
      ],
      "metadata": {
        "colab": {
          "base_uri": "https://localhost:8080/"
        },
        "id": "PJQB4WAaVkLD",
        "outputId": "aa85e174-89ec-45ab-97d1-bf0431b4546f"
      },
      "execution_count": 3,
      "outputs": [
        {
          "output_type": "stream",
          "name": "stdout",
          "text": [
            "corpus length: 581888\n"
          ]
        }
      ]
    },
    {
      "cell_type": "code",
      "source": [
        "tokenizer = RegexpTokenizer(r'\\w+')\n",
        "words = tokenizer.tokenize(text)"
      ],
      "metadata": {
        "id": "ilVpf5M4VlJO"
      },
      "execution_count": 4,
      "outputs": []
    },
    {
      "cell_type": "code",
      "source": [
        "unique_words = np.unique(words)\n",
        "unique_word_index = dict((c, i) for i, c in enumerate(unique_words))"
      ],
      "metadata": {
        "id": "u0TUSiiHVm-m"
      },
      "execution_count": 5,
      "outputs": []
    },
    {
      "cell_type": "code",
      "source": [
        "WORD_LENGTH = 5\n",
        "prev_words = []\n",
        "next_words = []\n",
        "for i in range(len(words) - WORD_LENGTH):\n",
        "    prev_words.append(words[i:i + WORD_LENGTH])\n",
        "    next_words.append(words[i + WORD_LENGTH])\n",
        "print(prev_words[0])\n",
        "print(next_words[0])"
      ],
      "metadata": {
        "colab": {
          "base_uri": "https://localhost:8080/"
        },
        "id": "-Q7a4_VmVoql",
        "outputId": "62402582-af76-43d6-ea30-6b3b7dafb39d"
      },
      "execution_count": 6,
      "outputs": [
        {
          "output_type": "stream",
          "name": "stdout",
          "text": [
            "['project', 'gutenberg', 's', 'the', 'adventures']\n",
            "of\n"
          ]
        }
      ]
    },
    {
      "cell_type": "code",
      "source": [
        "X = np.zeros((len(prev_words), WORD_LENGTH, len(unique_words)), dtype=bool)\n",
        "Y = np.zeros((len(next_words), len(unique_words)), dtype=bool)\n",
        "for i, each_words in enumerate(prev_words):\n",
        "    for j, each_word in enumerate(each_words):\n",
        "        X[i, j, unique_word_index[each_word]] = 1\n",
        "    Y[i, unique_word_index[next_words[i]]] = 1"
      ],
      "metadata": {
        "id": "n8OJ3cmbVqcL"
      },
      "execution_count": 7,
      "outputs": []
    },
    {
      "cell_type": "code",
      "source": [
        "print(X[0][0])"
      ],
      "metadata": {
        "colab": {
          "base_uri": "https://localhost:8080/"
        },
        "id": "QirwWo2WVsKp",
        "outputId": "5b40e00d-5ee5-40d9-f6d6-d89d25d3e5d0"
      },
      "execution_count": 8,
      "outputs": [
        {
          "output_type": "stream",
          "name": "stdout",
          "text": [
            "[False False False ... False False False]\n"
          ]
        }
      ]
    },
    {
      "cell_type": "code",
      "source": [
        "model = Sequential()\n",
        "model.add(LSTM(128, input_shape=(WORD_LENGTH, len(unique_words))))\n",
        "model.add(Dense(len(unique_words)))\n",
        "model.add(Activation('softmax'))"
      ],
      "metadata": {
        "id": "5D3IEV0ZVtna"
      },
      "execution_count": 9,
      "outputs": []
    },
    {
      "cell_type": "code",
      "source": [
        "optimizer = RMSprop(lr=0.01)\n",
        "model.compile(loss='categorical_crossentropy', optimizer=optimizer, metrics=['accuracy'])\n",
        "history = model.fit(X, Y, validation_split=0.05, batch_size=128, epochs=10, shuffle=True).history"
      ],
      "metadata": {
        "colab": {
          "base_uri": "https://localhost:8080/"
        },
        "id": "6kSks8ddVvAD",
        "outputId": "b34e01da-4290-4582-d9e3-8890fa159e3e"
      },
      "execution_count": 10,
      "outputs": [
        {
          "output_type": "stream",
          "name": "stderr",
          "text": [
            "/usr/local/lib/python3.7/dist-packages/keras/optimizer_v2/rmsprop.py:130: UserWarning: The `lr` argument is deprecated, use `learning_rate` instead.\n",
            "  super(RMSprop, self).__init__(name, **kwargs)\n"
          ]
        },
        {
          "output_type": "stream",
          "name": "stdout",
          "text": [
            "Epoch 1/10\n",
            "811/811 [==============================] - 236s 283ms/step - loss: 6.0018 - accuracy: 0.1082 - val_loss: 7.0847 - val_accuracy: 0.1044\n",
            "Epoch 2/10\n",
            "811/811 [==============================] - 221s 272ms/step - loss: 5.7821 - accuracy: 0.1474 - val_loss: 8.0068 - val_accuracy: 0.1049\n",
            "Epoch 3/10\n",
            "811/811 [==============================] - 220s 271ms/step - loss: 5.7531 - accuracy: 0.1780 - val_loss: 7.9160 - val_accuracy: 0.1097\n",
            "Epoch 4/10\n",
            "811/811 [==============================] - 220s 272ms/step - loss: 5.4421 - accuracy: 0.2108 - val_loss: 8.1324 - val_accuracy: 0.1029\n",
            "Epoch 5/10\n",
            "811/811 [==============================] - 220s 271ms/step - loss: 5.1376 - accuracy: 0.2494 - val_loss: 8.4188 - val_accuracy: 0.0936\n",
            "Epoch 6/10\n",
            "811/811 [==============================] - 220s 272ms/step - loss: 4.8713 - accuracy: 0.2911 - val_loss: 8.5603 - val_accuracy: 0.0868\n",
            "Epoch 7/10\n",
            "811/811 [==============================] - 220s 271ms/step - loss: 4.6335 - accuracy: 0.3319 - val_loss: 8.6821 - val_accuracy: 0.0853\n",
            "Epoch 8/10\n",
            "811/811 [==============================] - 220s 271ms/step - loss: 4.4404 - accuracy: 0.3691 - val_loss: 8.7888 - val_accuracy: 0.0793\n",
            "Epoch 9/10\n",
            "811/811 [==============================] - 224s 276ms/step - loss: 4.2958 - accuracy: 0.4043 - val_loss: 8.7952 - val_accuracy: 0.0699\n",
            "Epoch 10/10\n",
            "811/811 [==============================] - 220s 272ms/step - loss: 4.1520 - accuracy: 0.4347 - val_loss: 8.9142 - val_accuracy: 0.0787\n"
          ]
        }
      ]
    },
    {
      "cell_type": "code",
      "source": [
        "history"
      ],
      "metadata": {
        "colab": {
          "base_uri": "https://localhost:8080/"
        },
        "id": "bH6RibZ5V0Ak",
        "outputId": "6b80baa4-9e10-4755-dca9-c5192b975fd9"
      },
      "execution_count": 11,
      "outputs": [
        {
          "output_type": "execute_result",
          "data": {
            "text/plain": [
              "{'accuracy': [0.10817375034093857,\n",
              "  0.1474185436964035,\n",
              "  0.17804720997810364,\n",
              "  0.2107768952846527,\n",
              "  0.24941450357437134,\n",
              "  0.29114583134651184,\n",
              "  0.33190372586250305,\n",
              "  0.36908605694770813,\n",
              "  0.4042733609676361,\n",
              "  0.4347478151321411],\n",
              " 'loss': [6.001797199249268,\n",
              "  5.782100200653076,\n",
              "  5.753105640411377,\n",
              "  5.442107200622559,\n",
              "  5.137565612792969,\n",
              "  4.871340751647949,\n",
              "  4.633545398712158,\n",
              "  4.440408706665039,\n",
              "  4.295839786529541,\n",
              "  4.152001857757568],\n",
              " 'val_accuracy': [0.10435737669467926,\n",
              "  0.10490662604570389,\n",
              "  0.10966678708791733,\n",
              "  0.10289271175861359,\n",
              "  0.09355547279119492,\n",
              "  0.08678139746189117,\n",
              "  0.0853167325258255,\n",
              "  0.0792749896645546,\n",
              "  0.06993775069713593,\n",
              "  0.07872574031352997],\n",
              " 'val_loss': [7.084724426269531,\n",
              "  8.00681209564209,\n",
              "  7.91603422164917,\n",
              "  8.132403373718262,\n",
              "  8.418843269348145,\n",
              "  8.56029987335205,\n",
              "  8.682136535644531,\n",
              "  8.788846969604492,\n",
              "  8.795217514038086,\n",
              "  8.914220809936523]}"
            ]
          },
          "metadata": {},
          "execution_count": 11
        }
      ]
    },
    {
      "cell_type": "code",
      "source": [
        "plt.plot(history['accuracy'])\n",
        "plt.plot(history['val_accuracy'])\n",
        "plt.title('model accuracy')\n",
        "plt.ylabel('accuracy')\n",
        "plt.xlabel('epoch')\n",
        "plt.legend(['train', 'test'], loc='upper left')"
      ],
      "metadata": {
        "colab": {
          "base_uri": "https://localhost:8080/",
          "height": 312
        },
        "id": "UgWuICDYe7qw",
        "outputId": "fb236331-13d2-4b4d-f8f4-702eee2d9918"
      },
      "execution_count": 12,
      "outputs": [
        {
          "output_type": "execute_result",
          "data": {
            "text/plain": [
              "<matplotlib.legend.Legend at 0x7fb731282390>"
            ]
          },
          "metadata": {},
          "execution_count": 12
        },
        {
          "output_type": "display_data",
          "data": {
            "image/png": "[encoded data removed]",
            "text/plain": [
              "<Figure size 432x288 with 1 Axes>"
            ]
          },
          "metadata": {
            "needs_background": "light"
          }
        }
      ]
    },
    {
      "cell_type": "code",
      "source": [
        "plt.plot(history['loss'])\n",
        "plt.plot(history['val_loss'])\n",
        "plt.title('model loss')\n",
        "plt.ylabel('loss')\n",
        "plt.xlabel('epoch')\n",
        "plt.legend(['train', 'test'], loc='upper left')"
      ],
      "metadata": {
        "colab": {
          "base_uri": "https://localhost:8080/",
          "height": 312
        },
        "id": "bpQaxVwLe9u8",
        "outputId": "29bdac79-a974-4f25-9030-2173b5152860"
      },
      "execution_count": 13,
      "outputs": [
        {
          "output_type": "execute_result",
          "data": {
            "text/plain": [
              "<matplotlib.legend.Legend at 0x7fb730d67590>"
            ]
          },
          "metadata": {},
          "execution_count": 13
        },
        {
          "output_type": "display_data",
          "data": {
            "image/png": "[encoded data removed]",
            "text/plain": [
              "<Figure size 432x288 with 1 Axes>"
            ]
          },
          "metadata": {
            "needs_background": "light"
          }
        }
      ]
    },
    {
      "cell_type": "code",
      "source": [
        "def prepare_input(text):\n",
        "    x = np.zeros((1, WORD_LENGTH, len(unique_words)))\n",
        "    for t, word in enumerate(text.split()):\n",
        "        print(word)\n",
        "        x[0, t, unique_word_index[word]] = 1\n",
        "    return x\n",
        "prepare_input(\"It is not a lack\".lower())"
      ],
      "metadata": {
        "colab": {
          "base_uri": "https://localhost:8080/"
        },
        "id": "LhuWE6Hxe_Od",
        "outputId": "d3c6a8a1-2f18-49be-bbeb-fbf6ff9926aa"
      },
      "execution_count": 14,
      "outputs": [
        {
          "output_type": "stream",
          "name": "stdout",
          "text": [
            "it\n",
            "is\n",
            "not\n",
            "a\n",
            "lack\n"
          ]
        },
        {
          "output_type": "execute_result",
          "data": {
            "text/plain": [
              "array([[[0., 0., 0., ..., 0., 0., 0.],\n",
              "        [0., 0., 0., ..., 0., 0., 0.],\n",
              "        [0., 0., 0., ..., 0., 0., 0.],\n",
              "        [0., 0., 0., ..., 0., 0., 0.],\n",
              "        [0., 0., 0., ..., 0., 0., 0.]]])"
            ]
          },
          "metadata": {},
          "execution_count": 14
        }
      ]
    },
    {
      "cell_type": "code",
      "source": [
        "def sample(preds, top_n=3):\n",
        "    preds = np.asarray(preds).astype('float64')\n",
        "    preds = np.log(preds)\n",
        "    exp_preds = np.exp(preds)\n",
        "    preds = exp_preds / np.sum(exp_preds)\n",
        "\n",
        "    return heapq.nlargest(top_n, range(len(preds)), preds.take)"
      ],
      "metadata": {
        "id": "1MhyqnB6fAmd"
      },
      "execution_count": 15,
      "outputs": []
    },
    {
      "cell_type": "code",
      "source": [
        "def predict_completions(text, n=3):\n",
        "    if text == \"\":\n",
        "        return(\"0\")\n",
        "    x = prepare_input(text)\n",
        "    preds = model.predict(x, verbose=0)[0]\n",
        "    next_indices = sample(preds, n)\n",
        "    return [unique_words[idx] for idx in next_indices]"
      ],
      "metadata": {
        "id": "z95BxYntfCQe"
      },
      "execution_count": 16,
      "outputs": []
    },
    {
      "cell_type": "code",
      "source": [
        "q =  \"There is nothing more deceptive than an obvious fact\"\n",
        "print(\"correct sentence: \",q)\n",
        "seq = \" \".join(tokenizer.tokenize(q.lower())[0:5])\n",
        "print(\"Sequence: \",seq)\n",
        "print(\"next possible words: \", predict_completions(seq, 5))"
      ],
      "metadata": {
        "colab": {
          "base_uri": "https://localhost:8080/"
        },
        "id": "pXXNf5dIfDh8",
        "outputId": "8c47ec47-70db-405d-f73d-3284f97d6597"
      },
      "execution_count": 17,
      "outputs": [
        {
          "output_type": "stream",
          "name": "stdout",
          "text": [
            "correct sentence:  There is nothing more deceptive than an obvious fact\n",
            "Sequence:  there is nothing more deceptive\n",
            "there\n",
            "is\n",
            "nothing\n",
            "more\n",
            "deceptive\n",
            "next possible words:  ['than', 'so', 'said', 'very', 'no']\n"
          ]
        }
      ]
    },
    {
      "cell_type": "code",
      "source": [
        ""
      ],
      "metadata": {
        "id": "jcvXwFYHfFbM"
      },
      "execution_count": null,
      "outputs": []
    }
  ]
}