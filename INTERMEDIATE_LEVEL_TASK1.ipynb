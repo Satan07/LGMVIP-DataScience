{
  "nbformat": 4,
  "nbformat_minor": 0,
  "metadata": {
    "colab": {
      "name": "INTERMEDIATE LEVEL TASK1.ipynb",
      "provenance": [],
      "authorship_tag": "ABX9TyMPtP2EkCH9ThRUKK7ZeiaK",
      "include_colab_link": true
    },
    "kernelspec": {
      "name": "python3",
      "display_name": "Python 3"
    },
    "language_info": {
      "name": "python"
    }
  },
  "cells": [
    {
      "cell_type": "markdown",
      "metadata": {
        "id": "view-in-github",
        "colab_type": "text"
      },
      "source": [
        "<a href=\"https://colab.research.google.com/github/Satan07/LGMVIP-DataScience/blob/main/INTERMEDIATE_LEVEL_TASK1.ipynb\" target=\"_parent\"><img src=\"https://colab.research.google.com/assets/colab-badge.svg\" alt=\"Open In Colab\"/></a>"
      ]
    },
    {
      "cell_type": "markdown",
      "source": [
        " **DATA SCIENCE INTERN AT LETSGROWMORE LGMVIPDECEMBER 2021 BATCH**"
      ],
      "metadata": {
        "id": "f-7_Mhe2uiVe"
      }
    },
    {
      "cell_type": "markdown",
      "source": [
        "**NAME: SATYAM PALKAR**"
      ],
      "metadata": {
        "id": "psvOJH-0uiaa"
      }
    },
    {
      "cell_type": "markdown",
      "source": [
        "**INTERMEDIATE LEVEL TASK1 : Iris Flower Classification Using Desicion Tree Classifier**"
      ],
      "metadata": {
        "id": "GPmpslVouigk"
      }
    },
    {
      "cell_type": "code",
      "source": [
        "import numpy as np\n",
        "import pandas as pd\n",
        "import matplotlib.pyplot as plt\n",
        "%matplotlib inline\n",
        "import seaborn as sns\n"
      ],
      "metadata": {
        "id": "jgcZqzQLuqvK"
      },
      "execution_count": null,
      "outputs": []
    }
  ]
}